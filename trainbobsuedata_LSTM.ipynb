{
  "nbformat": 4,
  "nbformat_minor": 0,
  "metadata": {
    "colab": {
      "name": "Andrew LSTM.ipynb",
      "provenance": [],
      "collapsed_sections": [],
      "toc_visible": true
    },
    "kernelspec": {
      "name": "python3",
      "display_name": "Python 3"
    },
    "accelerator": "GPU"
  },
  "cells": [
    {
      "cell_type": "code",
      "metadata": {
        "id": "K7SFsCTPePPq"
      },
      "source": [
        "import torch\n",
        "import torch.nn as nn\n",
        "import torch.nn.functional as F\n",
        "import matplotlib.pyplot as pp\n",
        "import numpy as np\n",
        "\n",
        "import random\n",
        "import time\n",
        "import math\n",
        "\n",
        "import pickle\n",
        "\n",
        "DEVICE = torch.device(\"cuda:0\" if torch.cuda.is_available() else \"cpu\")"
      ],
      "execution_count": null,
      "outputs": []
    },
    {
      "cell_type": "markdown",
      "metadata": {
        "id": "blbJvMMMAqhH"
      },
      "source": [
        "## Classes"
      ]
    },
    {
      "cell_type": "code",
      "metadata": {
        "id": "ai5b1iLi9hyH"
      },
      "source": [
        "class LSTMCell(nn.Module):\n",
        "  def __init__(self, n_in, n_hid):\n",
        "    super(LSTMCell, self).__init__()\n",
        "    self.forget = nn.Linear(n_in+n_hid, n_hid)\n",
        "    self.input = nn.Linear(n_in+n_hid, n_hid)\n",
        "    self.gate = nn.Linear(n_in+n_hid, n_hid)\n",
        "    self.output = nn.Linear(n_in+n_hid, n_hid)\n",
        "\n",
        "    \n",
        "  def forward(self, x, tupHC):\n",
        "    h, c = tupHC\n",
        "    xs = x.unsqueeze(0)\n",
        "    new_x = torch.cat((h, xs), dim=1) #customize per data\n",
        "    f_gate = torch.sigmoid(self.forget(new_x))\n",
        "    i_gate = torch.sigmoid(self.input(new_x))\n",
        "    g_gate = torch.tanh(self.gate(new_x))\n",
        "    o_gate = torch.sigmoid(self.output(new_x))\n",
        "    new_c = f_gate * c + (i_gate*g_gate) # all elementwise\n",
        "    new_h = o_gate * torch.tanh(new_c)\n",
        "    return (new_h, new_c)\n",
        "  \n",
        "class LSTMNet(nn.Module):\n",
        "    def __init__(self, n_in, n_hid, n_out):\n",
        "      # use LSTM to map sequence of characters to some latent feature representation -> use this latent feature representation to do classification on origin\n",
        "      super(LSTMNet, self).__init__()\n",
        "      self.n_hid = n_hid\n",
        "      self.encode = LSTMCell(n_in, n_hid)\n",
        "      self.decode = LSTMCell(n_in, n_hid)\n",
        "      self.fc = nn.Linear(n_hid, n_out)\n",
        "\n",
        "    def forward(self, xs, hidden=None, ctx=None):\n",
        "      # xs is tuple of primer and ground, tensor sentences\n",
        "      primer, ground = xs\n",
        "      if hidden is None:\n",
        "        hidden = self.init_hidden()\n",
        "        ctx = self.init_hidden()\n",
        "        \n",
        "      output = torch.Tensor().cuda()\n",
        "      for i in range(primer.size(0)):\n",
        "        hidden, ctx = self.encode.forward(primer[i], (hidden, ctx))\n",
        "      if(ground is None):\n",
        "        # prediction\n",
        "        last = wordToTen(\"<s>\").cuda()\n",
        "        length = 0\n",
        "        word = \"\"\n",
        "        while(word != \"</s>\" and length < 20):\n",
        "          hidden, ctx = self.decode.forward(last, (hidden, ctx))\n",
        "          output = torch.cat((output, hidden), dim=0)\n",
        "          word = tenToWord(hidden.squeeze(0).cpu())\n",
        "          last = wordToTen(word).cuda()\n",
        "          length += 1\n",
        "      else:\n",
        "        # training\n",
        "        for i in range(ground.size(0)):\n",
        "          hidden, ctx = self.decode.forward(ground[i], (hidden, ctx))\n",
        "          output = torch.cat((output, hidden), dim=0)\n",
        "    #     output = self.log_softmax(self.fc(hidden))\n",
        "  \n",
        "      return output, (hidden, ctx)\n",
        "    \n",
        "    def init_hidden(self):\n",
        "        '''\n",
        "        hidden and cell states init to be zeros of shape hidden dim\n",
        "        '''\n",
        "        return torch.zeros(1, self.n_hid).cuda()"
      ],
      "execution_count": null,
      "outputs": []
    },
    {
      "cell_type": "markdown",
      "metadata": {
        "id": "364EXzY8_fvI"
      },
      "source": [
        "## Load and Parse Data\n"
      ]
    },
    {
      "cell_type": "code",
      "metadata": {
        "id": "vQFIg0OdCTFN"
      },
      "source": [
        "def wordToIdx(wrd):\n",
        "  return wt_map[wrd]\n",
        "\n",
        "def wordToTen(wrd):\n",
        "  return weights_matrix[wordToIdx(wrd)]\n",
        "\n",
        "def lineToTen(line):\n",
        "  ten = torch.zeros((len(line), 200)).cuda()\n",
        "  for i, w in enumerate(line):\n",
        "    ten[i] = wordToTen(w)\n",
        "  return ten #.cuda()\n",
        "\n",
        "def tenToWord(ten):\n",
        "  maximal = [0,-1]\n",
        "  for i, w in enumerate(weights_matrix):\n",
        "    n = (w - ten).norm().item()\n",
        "    if(n < maximal[0] or maximal[1] == -1):\n",
        "      maximal = [n, i]\n",
        "  return list(wt_map.keys())[list(wt_map.values()).index(maximal[1])]\n",
        "\n",
        "def tenToLine(ten):\n",
        "  line = []\n",
        "  cten = ten.cpu()\n",
        "  for t in cten:\n",
        "    line.append(tenToWord(t))\n",
        "  return line"
      ],
      "execution_count": null,
      "outputs": []
    },
    {
      "cell_type": "code",
      "metadata": {
        "id": "AVpJY4DCoVaY",
        "colab": {
          "base_uri": "https://localhost:8080/",
          "height": 34
        },
        "outputId": "3de91bec-96fd-4de5-a052-1634b14dd380"
      },
      "source": [
        "# glove = pickle.load(open(\"glove.pkl\", \"rb\"))\n",
        "wt_map = {}\n",
        "\n",
        "target_vocab = []\n",
        "with open(\"bobsue.voc.txt\", \"r\") as r:\n",
        "  for line in r:\n",
        "    target_vocab.append(line.rstrip(\"\\n\"))\n",
        "\n",
        "matrix_len = len(target_vocab)\n",
        "weights_matrix = torch.zeros((matrix_len, 200))\n",
        "words_found = 0\n",
        "\n",
        "for i, word in enumerate(target_vocab):\n",
        "#   try: \n",
        "#     weights_matrix[i] = torch.from_numpy(glove[word])\n",
        "#     words_found += 1\n",
        "#   except KeyError:\n",
        "  weights_matrix[i] = torch.empty(1,200).uniform_(-0.1, 0.1).cuda()\n",
        "  wt_map[word] = i\n",
        "torch.save(weights_matrix, \"weights_rand.pt\")\n",
        "pickle.dump(wt_map, open(\"wt_map.pkl\", \"wb\"))\n",
        "\n",
        "# wt_map = pickle.load(open(\"wt_map.pkl\", \"rb\"))\n",
        "# weights_matrix = torch.load(\"weights_rand.pt\")\n",
        "\n",
        "bobsueTrain = []\n",
        "with open(\"bobsue.seq2seq.train.tsv\", \"r\") as f:\n",
        "  for line in f:\n",
        "    x1, y1 = line.rstrip(\"\\n\").split(\"\\t\")\n",
        "    bobsueTrain.append([lineToTen(x1.split(\" \")), lineToTen(y1.split(\" \"))])\n",
        "    \n",
        "print(tenToLine(bobsueTrain[0][1]))"
      ],
      "execution_count": null,
      "outputs": [
        {
          "output_type": "stream",
          "text": [
            "['<s>', 'She', 'ate', 'quickly', 'and', 'asked', 'to', 'be', 'taken', 'home', '.', '</s>']\n"
          ],
          "name": "stdout"
        }
      ]
    },
    {
      "cell_type": "markdown",
      "metadata": {
        "id": "espwUQSK_uVE"
      },
      "source": [
        "## Train Loop"
      ]
    },
    {
      "cell_type": "code",
      "metadata": {
        "id": "rmIPn3ticWQO"
      },
      "source": [
        "def train(primer_tensor, ground_tensor, model, optimizer, criterion=F.mse_loss):\n",
        "  optimizer.zero_grad()\n",
        "\n",
        "  hidden, ctx = None, None\n",
        "  output, (hidden, ctx) = model((primer_tensor, ground_tensor), hidden, ctx)\n",
        "\n",
        "  output = output[:-1] # last prediction is meaningless since we fed it </s>\n",
        "  \n",
        "  loss = criterion(output, ground_tensor[1:]) # we're not trying to predict <s>\n",
        "  loss.backward()\n",
        "  optimizer.step()\n",
        "  return output, loss.item()\n",
        "  \n",
        "  \n",
        "def evalCorrect(y_pred, ys):\n",
        "  line = tenToLine(y_pred)\n",
        "  ground = tenToLine(ys)\n",
        "  acc = 0\n",
        "  for q in range(len(y_pred)):\n",
        "    if(line[q] == ground[q+1]):\n",
        "      acc += 1 / len(y_pred)\n",
        "      try:\n",
        "        correct[line[q]] += 1\n",
        "      except:\n",
        "        correct[line[q]] = 1\n",
        "  return acc, line, ground\n",
        "    "
      ],
      "execution_count": null,
      "outputs": []
    },
    {
      "cell_type": "code",
      "metadata": {
        "id": "Vsvsf95SgemR",
        "colab": {
          "base_uri": "https://localhost:8080/",
          "height": 245
        },
        "outputId": "5a3e38cd-701a-43f4-c92f-fa8376004d61"
      },
      "source": [
        "#def run(): #added\n",
        "#########################\n",
        "#       Training loop   #\n",
        "#########################\n",
        "hparams = {\n",
        "    'learning_rate': 0.1,\n",
        "    'epochs': 30,\n",
        "    'hidden_size': 200,\n",
        "    'logint': 1,\n",
        "    'set_size' : 500 #6036\n",
        "}\n",
        "\n",
        "def randex(all_pairs):\n",
        "#   pair = random.choice(all_pairs)\n",
        "  pair = random.choice(all_pairs[0:hparams['set_size']])\n",
        "#   pair = all_pairs[0]\n",
        "\n",
        "  p = pair[0]\n",
        "  q = pair[1]\n",
        "  return p, q #, lineToTen(p), lineToTen(q)\n",
        "\n",
        "model = LSTMNet(200, hparams['hidden_size'], 200)\n",
        "model.to(DEVICE)\n",
        "opt = torch.optim.Adam(model.parameters(), lr=hparams['learning_rate'])\n",
        "# opt = torch.optim.SGD(model.parameters(), lr=hparams['learning_rate'])\n",
        "# opt = torch.optim.SGD(model.parameters(), lr=hparams['learning_rate'], momentum=0.9, weight_decay=1e-3)\n",
        "\n",
        "\n",
        "epochs = []\n",
        "losses = []\n",
        "all_losses = []\n",
        "some_losses = []\n",
        "accuracy = []\n",
        "corrects = []\n",
        "start = time.time()\n",
        "batch_accs = []\n",
        "correct = {}\n",
        "\n",
        "\n",
        "for e in range(hparams['epochs']):\n",
        "  acc = 0\n",
        "  for i in range(hparams['set_size'] + 1):\n",
        "    pt, gt = randex(bobsueTrain)\n",
        "    y_pred, loss = train(pt, gt, model, opt)\n",
        "    losses.append(loss)\n",
        "    all_losses.append(loss)   \n",
        "    if(i % 100 == 0):\n",
        "      acc, line, ground = evalCorrect(y_pred, gt)\n",
        "      accuracy.append(acc)\n",
        "      some_losses.append(loss)\n",
        "\n",
        "    \n",
        "  if e % hparams['logint'] == 0:\n",
        "    if(e == hparams['epochs'] // 2):\n",
        "      hparams['learning_rate'] = 0.01\n",
        "      for g in opt.param_groups:\n",
        "        g['lr'] = hparams['learning_rate']\n",
        "      print(\"new rate\")\n",
        "    elapsed = (time.time() - start) / 60.\n",
        "    avg_loss = np.mean(losses)\n",
        "#       acc = np.mean(corrects)\n",
        "    acc, line, ground = evalCorrect(y_pred, gt)\n",
        "\n",
        "    print('Epoch {:7} | Loss: {:5.5f} | Acc: {:.3f} | Elapsed: {:.2f}min'.format(e, avg_loss, acc, elapsed))\n",
        "    print(line)\n",
        "    print(ground[1:])\n",
        "    losses = []\n",
        "    batch_accs.append(acc)\n"
      ],
      "execution_count": null,
      "outputs": [
        {
          "output_type": "stream",
          "text": [
            "Epoch       0 | Loss: 0.00354 | Acc: 0.182 | Elapsed: 0.32min\n",
            "['climbed', 'climbed', 'climbed', 'climbed', 'woman', 'climbed', 'a', 'climbed', '.', '.', '</s>']\n",
            "['Bob', 'eventually', 'found', 'his', 'keys', 'in', 'his', 'coat', 'pocket', '.', '</s>']\n",
            "Epoch       1 | Loss: 0.00286 | Acc: 0.200 | Elapsed: 0.65min\n",
            "['climbed', 'climbed', 'climbed', 'she', 'climbed', 'climbed', '.', 'climbed', '.', '</s>']\n",
            "['At', 'first', ',', 'Bob', 'was', 'winning', 'the', 'game', '.', '</s>']\n",
            "Epoch       2 | Loss: 0.00285 | Acc: 0.182 | Elapsed: 0.99min\n",
            "['climbed', 'onto', 'climbed', 'bit', '.', '.', '.', 'climbed', 'woman', '.', '</s>']\n",
            "['Sue', 'found', 'the', 'perfect', 'blue', 'dress', 'and', 'black', 'shoes', '.', '</s>']\n",
            "Epoch       3 | Loss: 0.00286 | Acc: 0.300 | Elapsed: 1.32min\n",
            "['climbed', 'climbed', 'climbed', 'slow', 'to', 'climbed', '.', 'turned', '.', '</s>']\n",
            "['She', 'was', 'too', 'shy', 'to', 'ask', 'him', 'out', '.', '</s>']\n"
          ],
          "name": "stdout"
        }
      ]
    },
    {
      "cell_type": "code",
      "metadata": {
        "id": "vTEElmYbGiNf",
        "colab": {
          "base_uri": "https://localhost:8080/",
          "height": 361
        },
        "outputId": "aa14cab6-6288-43f9-c13c-456e31cfdcef"
      },
      "source": [
        "\n",
        "###\n",
        "\n",
        "# torch.save(weights_matrix, \"weights_rand2.pt\")\n",
        "# print(len(bobsueTrain))\n",
        "# weights_matrix /= 20\n",
        "# print(torch.max(weights_matrix))\n",
        "# model_num += 1\n",
        "# torch.save(model, \"model_{0}.pt\".format(model_num))\n",
        "# order = sorted(correct, key=correct.get, reverse=True)\n",
        "# for i in range(20):\n",
        "#   print(order[i], correct[order[i]])\n",
        "\n",
        "ep = []\n",
        "for i in range(len(accuracy)):\n",
        "  ep.append(i/5)\n",
        "\n",
        "\n",
        "pp.scatter(ep, some_losses)\n",
        "pp.xlabel(\"epochs\")\n",
        "pp.ylabel(\"loss\")\n",
        "pp.show()\n",
        "\n",
        "###"
      ],
      "execution_count": null,
      "outputs": [
        {
          "output_type": "display_data",
          "data": {
            "image/png": "[encoded data removed]",
            "text/plain": [
              "<Figure size 576x396 with 1 Axes>"
            ]
          },
          "metadata": {
            "tags": []
          }
        }
      ]
    },
    {
      "cell_type": "code",
      "metadata": {
        "id": "-fqj00tvMSPv",
        "colab": {
          "base_uri": "https://localhost:8080/",
          "height": 211
        },
        "outputId": "10d1c587-a347-4a73-d2cb-d32382e9a28a"
      },
      "source": [
        "\n",
        "\n",
        "bobsueTest = []\n",
        "with open(\"bobsue.seq2seq.test.tsv\", \"r\") as f:\n",
        "  for line in f:\n",
        "    x1, y1 = line.rstrip(\"\\n\").split(\"\\t\")\n",
        "    bobsueTest.append([x1.split(\" \"), y1.split(\" \")])\n",
        "    \n",
        "test = random.sample(bobsueTest, 10)\n",
        "for p, g in test:\n",
        "  pred, loss = model((lineToTen(p), None), None, None)\n",
        "  print(tenToLine(pred))\n",
        "\n",
        "    \n",
        "with open(\"bobsue.seq2seq.pred.tsv\", \"w\") as out:\n",
        "  for p, g in bobsueTest:\n",
        "    line = \" \".join(p)\n",
        "    pred, loss = model((lineToTen(p), None), None, None)\n",
        "    line += \"\\t\"\n",
        "    line += \" \".join(tenToLine(pred))\n",
        "    line += \"\\n\"\n",
        "    out.write(line)\n",
        "  "
      ],
      "execution_count": null,
      "outputs": [
        {
          "output_type": "stream",
          "text": [
            "['spend', 'rock', 'free', '.', '</s>']\n",
            "['spend', 'sauce', 'ever', 'tutor', 'counter', 'to', 'the', 'counter', '.', '</s>']\n",
            "['counter', 'counter', 'counter', 'to', 'the', 'counter', 'counter', 'sauce', 'counter', '.', '</s>']\n",
            "['counter', 'counter', 'counter', 'to', 'the', 'counter', 'counter', 'sauce', 'counter', '.', '</s>']\n",
            "['counter', 'counter', 'counter', 'to', 'the', 'counter', 'counter', 'sauce', 'counter', '.', '</s>']\n",
            "['spend', 'sauce', 'ever', 'tutor', 'counter', 'to', 'the', 'counter', '.', '</s>']\n",
            "['counter', 'counter', 'counter', 'to', 'the', 'counter', 'counter', 'sauce', 'counter', '.', '</s>']\n",
            "['counter', 'counter', 'counter', 'to', 'the', 'counter', 'counter', 'sauce', 'counter', '.', '</s>']\n",
            "['counter', 'counter', 'counter', 'to', 'the', 'counter', 'counter', 'sauce', 'counter', '.', '</s>']\n",
            "['counter', 'counter', 'counter', 'to', 'the', 'counter', 'counter', 'sauce', 'counter', '.', '</s>']\n"
          ],
          "name": "stdout"
        }
      ]
    }
  ]
}